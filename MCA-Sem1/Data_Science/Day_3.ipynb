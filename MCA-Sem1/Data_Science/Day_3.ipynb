{
 "cells": [
  {
   "cell_type": "markdown",
   "id": "470c3b44",
   "metadata": {},
   "source": [
    "# Day 3"
   ]
  },
  {
   "cell_type": "markdown",
   "id": "b622d295",
   "metadata": {},
   "source": [
    "## if, elif and else"
   ]
  },
  {
   "cell_type": "code",
   "execution_count": 3,
   "id": "55bc6473",
   "metadata": {},
   "outputs": [
    {
     "name": "stdout",
     "output_type": "stream",
     "text": [
      "a==1\n"
     ]
    }
   ],
   "source": [
    "a=1\n",
    "if a>5:\n",
    "    print(\"a>5\")\n",
    "elif a==1:\n",
    "    print('a==1')\n",
    "else:\n",
    "    print(\"Nothing works\")"
   ]
  },
  {
   "cell_type": "code",
   "execution_count": 5,
   "id": "73d06fcc",
   "metadata": {},
   "outputs": [
    {
     "name": "stdout",
     "output_type": "stream",
     "text": [
      "red\n",
      "green\n",
      "black\n"
     ]
    }
   ],
   "source": [
    "colours=[\"red\", \"green\", 'black']\n",
    "for item in colors:\n",
    "    print(x)"
   ]
  },
  {
   "cell_type": "markdown",
   "id": "b5480291",
   "metadata": {},
   "source": [
    "## Loops: for and while"
   ]
  },
  {
   "cell_type": "code",
   "execution_count": 6,
   "id": "2797fe5a",
   "metadata": {},
   "outputs": [
    {
     "name": "stdout",
     "output_type": "stream",
     "text": [
      "r\n",
      "e\n",
      "d\n"
     ]
    }
   ],
   "source": [
    "s=\"red\"\n",
    "for x in s:\n",
    "    print(x)"
   ]
  },
  {
   "cell_type": "code",
   "execution_count": 8,
   "id": "55a0a76d",
   "metadata": {},
   "outputs": [
    {
     "name": "stdout",
     "output_type": "stream",
     "text": [
      "1\n",
      "2\n",
      "3\n"
     ]
    }
   ],
   "source": [
    "s=(1,2,3)\n",
    "for item in s:\n",
    "    print(i)"
   ]
  },
  {
   "cell_type": "code",
   "execution_count": 14,
   "id": "13996804",
   "metadata": {},
   "outputs": [
    {
     "name": "stdout",
     "output_type": "stream",
     "text": [
      "0\n",
      "1\n",
      "2\n",
      "3\n",
      "4\n",
      "5\n",
      "6\n",
      "7\n",
      "8\n",
      "9\n"
     ]
    }
   ],
   "source": [
    "for item in range(0,10):\n",
    "    print (i)"
   ]
  },
  {
   "cell_type": "code",
   "execution_count": 17,
   "id": "ded00dd6",
   "metadata": {},
   "outputs": [
    {
     "name": "stdout",
     "output_type": "stream",
     "text": [
      "1\n",
      "2\n",
      "g\n",
      "y\n"
     ]
    }
   ],
   "source": [
    "d={'1':'g','2':'y'}\n",
    "for item in d:\n",
    "    print(i)\n",
    "for item in d:\n",
    "    print(d[i])"
   ]
  },
  {
   "cell_type": "code",
   "execution_count": 20,
   "id": "1531c39a",
   "metadata": {},
   "outputs": [
    {
     "name": "stdout",
     "output_type": "stream",
     "text": [
      "0\n",
      "1\n",
      "2\n",
      "3\n",
      "4\n"
     ]
    }
   ],
   "source": [
    "i=0\n",
    "while i<5:\n",
    "    print(i)\n",
    "    i+=1"
   ]
  },
  {
   "cell_type": "code",
   "execution_count": 58,
   "id": "6dc90d07",
   "metadata": {},
   "outputs": [
    {
     "name": "stdout",
     "output_type": "stream",
     "text": [
      "1\n",
      "2\n",
      "even\n",
      "3\n",
      "Odd\n",
      "out\n"
     ]
    }
   ],
   "source": [
    "for i in range(1,6):\n",
    "    print(i)\n",
    "    if i%2==0:\n",
    "        print(\"even\")\n",
    "        continue\n",
    "    if i%3==0:\n",
    "        print(\"Odd\")\n",
    "        break\n",
    "print( 'out')\n"
   ]
  },
  {
   "cell_type": "markdown",
   "id": "ed0da2c6",
   "metadata": {},
   "source": [
    "## Functions"
   ]
  },
  {
   "cell_type": "code",
   "execution_count": 48,
   "id": "1879179b",
   "metadata": {},
   "outputs": [
    {
     "name": "stdout",
     "output_type": "stream",
     "text": [
      "3\n",
      "10\n",
      "2.0\n"
     ]
    }
   ],
   "source": [
    "def add(a,b):\n",
    "    return(a+b)\n",
    "def sub(a,b):\n",
    "    return(a-b)\n",
    "def mul(a,b):\n",
    "    return(a*b)\n",
    "def div(a,b):\n",
    "    return(a/b)\n",
    "add(5,2) # Will give output if no statements follow\n",
    "print(sub(6,3))\n",
    "print(mul(5,2))\n",
    "print(div(6,3))"
   ]
  },
  {
   "cell_type": "markdown",
   "id": "e899752d",
   "metadata": {},
   "source": [
    "## Variables, Local and Global"
   ]
  },
  {
   "cell_type": "code",
   "execution_count": 57,
   "id": "068723e5",
   "metadata": {},
   "outputs": [
    {
     "name": "stdout",
     "output_type": "stream",
     "text": [
      "Local:  10\n",
      "Global:  5\n"
     ]
    }
   ],
   "source": [
    "global y\n",
    "y=5\n",
    "def func():\n",
    "    y=10\n",
    "    print(\"Local: \",y)\n",
    "func()\n",
    "print(\"Global: \",y)"
   ]
  },
  {
   "cell_type": "markdown",
   "id": "ccf8d2f9",
   "metadata": {},
   "source": [
    "## Files Operations"
   ]
  },
  {
   "cell_type": "code",
   "execution_count": 79,
   "id": "1c96537a",
   "metadata": {},
   "outputs": [],
   "source": [
    "f=open('text.txt','w')\n",
    "f=f.write(\"\")"
   ]
  },
  {
   "cell_type": "code",
   "execution_count": 80,
   "id": "f3986175",
   "metadata": {},
   "outputs": [],
   "source": [
    "f=open('text.txt','w')\n",
    "f=f.write(\"Test\")"
   ]
  },
  {
   "cell_type": "code",
   "execution_count": 83,
   "id": "6f8aa84e",
   "metadata": {},
   "outputs": [
    {
     "name": "stdout",
     "output_type": "stream",
     "text": [
      "<built-in method read of _io.TextIOWrapper object at 0x0000023C765B5040>\n"
     ]
    }
   ],
   "source": [
    "f=open('text.txt','r')\n",
    "print(f.read)"
   ]
  },
  {
   "cell_type": "markdown",
   "id": "a30ed062",
   "metadata": {},
   "source": [
    "# Assignment Question\n",
    "1. Check if a number is palindrome or not."
   ]
  },
  {
   "cell_type": "code",
   "execution_count": null,
   "id": "664be772",
   "metadata": {},
   "outputs": [],
   "source": [
    "tup=(121,123,234,343)\n",
    "for item in tup:\n",
    "    rev=0\n",
    "    temp=item\n",
    "    while(temp>0):\n",
    "        rem=temp%10\n",
    "        rev=rev*10+rem\n",
    "        temp=temp//10\n",
    "    if(item==rev):\n",
    "        print(\"The number is palindrome!\")\n",
    "    else:\n",
    "        print(\"Not a palindrome!\")"
   ]
  }
 ],
 "metadata": {
  "kernelspec": {
   "display_name": "Python 3 (ipykernel)",
   "language": "python",
   "name": "python3"
  },
  "language_info": {
   "codemirror_mode": {
    "name": "ipython",
    "version": 3
   },
   "file_extension": ".py",
   "mimetype": "text/x-python",
   "name": "python",
   "nbconvert_exporter": "python",
   "pygments_lexer": "ipython3",
   "version": "3.9.12"
  }
 },
 "nbformat": 4,
 "nbformat_minor": 5
}
